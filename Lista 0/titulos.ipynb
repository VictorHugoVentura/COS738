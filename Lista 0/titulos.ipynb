{
 "cells": [
  {
   "cell_type": "code",
   "execution_count": 1,
   "id": "f051486a-72c6-4b58-a156-cd64ed596143",
   "metadata": {},
   "outputs": [],
   "source": [
    "from xml.dom import minidom"
   ]
  },
  {
   "cell_type": "code",
   "execution_count": 2,
   "id": "8a5243c8-28e2-4c2e-992b-753a750865d6",
   "metadata": {
    "tags": []
   },
   "outputs": [],
   "source": [
    "cf79_tree = minidom.parse(\"../../data/CysticFibrosis2/cf79.xml\")\n",
    "cf79_root = cf79_tree.documentElement\n",
    "records = cf79_root.getElementsByTagName(\"RECORD\")"
   ]
  },
  {
   "cell_type": "code",
   "execution_count": 3,
   "id": "56c265ab-e59d-4456-95ee-23408f9e6359",
   "metadata": {},
   "outputs": [],
   "source": [
    "impl = minidom.getDOMImplementation()\n",
    "newdoc = impl.createDocument(None, \"FILE\", None)\n",
    "top_element = newdoc.documentElement\n",
    "\n",
    "for record in records:\n",
    "    title = record.getElementsByTagName(\"TITLE\")\n",
    "    record_elem = newdoc.createElement(\"TITLE\")\n",
    "    record_text = newdoc.createTextNode(title[0].childNodes[0].data)\n",
    "    record_elem.appendChild(record_text)\n",
    "    top_element.appendChild(record_elem)\n",
    "\n",
    "newdoc_str = newdoc.toprettyxml()\n",
    "with open(\"titulos.xml\", \"w\") as f:\n",
    "    f.write(newdoc_str)"
   ]
  }
 ],
 "metadata": {
  "kernelspec": {
   "display_name": "Python 3 (ipykernel)",
   "language": "python",
   "name": "python3"
  },
  "language_info": {
   "codemirror_mode": {
    "name": "ipython",
    "version": 3
   },
   "file_extension": ".py",
   "mimetype": "text/x-python",
   "name": "python",
   "nbconvert_exporter": "python",
   "pygments_lexer": "ipython3",
   "version": "3.10.4"
  }
 },
 "nbformat": 4,
 "nbformat_minor": 5
}
