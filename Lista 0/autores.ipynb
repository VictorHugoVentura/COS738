{
 "cells": [
  {
   "cell_type": "code",
   "execution_count": 1,
   "id": "189feca9-0e66-4234-8718-058a9e6b06f7",
   "metadata": {
    "tags": []
   },
   "outputs": [],
   "source": [
    "import xml.etree.ElementTree as ET"
   ]
  },
  {
   "cell_type": "code",
   "execution_count": 3,
   "id": "ec5cfa32-a065-4103-a21d-c640e0a067aa",
   "metadata": {},
   "outputs": [],
   "source": [
    "cf79_tree = ET.parse(\"../../data/CysticFibrosis2/cf79.xml\")\n",
    "cf79_root = cf79_tree.getroot()"
   ]
  },
  {
   "cell_type": "code",
   "execution_count": 5,
   "id": "7b900631-4e30-4d28-9c9a-bf66ea5ba8d0",
   "metadata": {
    "tags": []
   },
   "outputs": [],
   "source": [
    "root = ET.Element(\"FILE\")\n",
    "\n",
    "for record in cf79_root:\n",
    "    authors = record.findall(\"AUTHORS\")\n",
    "    for authors in authors:\n",
    "        author_li = authors.findall(\"AUTHOR\")\n",
    "        for author in author_li:\n",
    "            ET.SubElement(root, \"AUTHOR\").text = author.text\n",
    "\n",
    "tree = ET.ElementTree(root)\n",
    "ET.indent(tree)\n",
    "tree.write(\"autores.xml\", xml_declaration=True)"
   ]
  }
 ],
 "metadata": {
  "kernelspec": {
   "display_name": "Python 3 (ipykernel)",
   "language": "python",
   "name": "python3"
  },
  "language_info": {
   "codemirror_mode": {
    "name": "ipython",
    "version": 3
   },
   "file_extension": ".py",
   "mimetype": "text/x-python",
   "name": "python",
   "nbconvert_exporter": "python",
   "pygments_lexer": "ipython3",
   "version": "3.10.4"
  }
 },
 "nbformat": 4,
 "nbformat_minor": 5
}
